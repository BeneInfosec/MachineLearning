{
 "cells": [
  {
   "cell_type": "code",
   "execution_count": null,
   "id": "f865f2ca-51fd-4856-9cdc-ffda695ec0d1",
   "metadata": {},
   "outputs": [],
   "source": [
    "'''https://medium.com/mlearning-ai/stock-market-data-visualization-using-mplfinance-1d35a8d48e4'''\n",
    "\n",
    "#OUTRA FORMA DE FAZER O GRÁFICO\n",
    "\n",
    "import yfinance as yf\n",
    "import mplfinance as mpf\n",
    "import matplotlib.pyplot as plt\n",
    "import pandas as pd\n",
    "\n",
    "df.Date=pd.to_datetime(df.date)  # change datetime format \n",
    "data=df.set_index('date')          # set date as index\n",
    "print(data.index)\n",
    "\n",
    "mpf.plot(df)"
   ]
  },
  {
   "cell_type": "code",
   "execution_count": null,
   "id": "4f576383-5a9c-4661-8191-84ae1e3ea956",
   "metadata": {},
   "outputs": [],
   "source": [
    "\n",
    "fig = go.Figure(data=go.Ohlc(x=df.index,\n",
    "  open=df['open'],\n",
    "  high=df['high'],\n",
    "  low=df['low'],\n",
    "  close=df['close']))\n",
    "fig.show()\n"
   ]
  },
  {
   "cell_type": "code",
   "execution_count": null,
   "id": "6475441c-4ca8-430c-9f42-ad8b65de1f47",
   "metadata": {},
   "outputs": [],
   "source": [
    "''' Para mudar o index, utilizei a fonte abaixo'''\n",
    "''' Fonte: https://www.delftstack.com/pt/howto/python-pandas/pandas-remove-index/#remover-%25C3%25ADndice-de-um-pandas-dataframe-utilizando-o-m%25C3%25A9todo-set_index'''\n",
    "\n",
    "df.info()\n",
    "df = df.set_index('date') #Mudando o index para o date\n",
    "print(df.index)\n",
    "df = df.drop('symbol', level = 1) # Tirando a coluna 'symbol' pois contem somente o código da ação. ex:BPAC11.SA\n",
    "df.info()\n",
    "print(df)"
   ]
  },
  {
   "cell_type": "code",
   "execution_count": null,
   "id": "47b1edf9-cc50-4890-bcf0-5158a0d3e13e",
   "metadata": {},
   "outputs": [],
   "source": [
    "'''https://medium.com/mlearning-ai/stock-market-data-visualization-using-mplfinance-1d35a8d48e4'''\n",
    "\n",
    "'''OUTRA FORMA DE FAZER O GRÁFICO'''\n",
    "'''\n",
    "import yfinance as yf\n",
    "import mplfinance as mpf\n",
    "import matplotlib.pyplot as plt\n",
    "import pandas as pd\n",
    "'''\n",
    "#df.Date=pd.to_datetime(df.date)  # change datetime format \n",
    "#data=df.set_index('date')          # set date as index\n",
    "#print(data.index)\n",
    "\n",
    "#mpf.plot(df)\n",
    "\n",
    "Ver:https://blog.quantinsti.com/stock-market-data-analysis-python/\n",
    "https://github.com/matplotlib/mplfinance/issues/89 \n",
    "https://stackoverflow.com/questions/52771328/plotly-chart-not-showing-in-jupyter-notebook "
   ]
  },
  {
   "cell_type": "raw",
   "id": "a134a535-6c6d-4398-bd8d-1b7756a54f5b",
   "metadata": {},
   "source": [
    "#-----------------------------------------------------------\n",
    "# Conteudo útil\n",
    "#---------------------------------------------------------                                                                                                                                                                                                                             # https://www.delftstack.com/pt/howto/python-pandas/pandas-remove-index/                                                           \n",
    "                                                                                                            # https://www.delftstack.com/pt/howto/python-pandas/pandas-remove-index/#remover-%25C3%25ADndice-de-um-pandas-dataframe-utilizando-o-m%25C3%25A9todo-set_index                                                                                                                                                                                                                                                               # There are two easy ways to make sure your dataframe has a pandas.DatetimeIndex as the dataframe index:\n",
    "When calling read_csv() indicate which column you want to use for the index (which should be the column \n",
    "that contains the dates/datetimes), and also set kwarg parse_dates=True.\n",
    "Fonte: https://stackoverflow.com/questions/67225879/how-can-i-deal-with-expect-data-index-as-datetimeindex\n",
    "\n",
    "#Extrair dados da Bovespa utilizando o Yahoo Query:\n",
    "https://medium.com/@rodrigobercinimartins/como-extrair-dados-da-bovespa-sem-gastar-nada-com-python-14a03454a720              "
   ]
  }
 ],
 "metadata": {
  "kernelspec": {
   "display_name": "Python 3",
   "language": "python",
   "name": "python3"
  },
  "language_info": {
   "codemirror_mode": {
    "name": "ipython",
    "version": 3
   },
   "file_extension": ".py",
   "mimetype": "text/x-python",
   "name": "python",
   "nbconvert_exporter": "python",
   "pygments_lexer": "ipython3",
   "version": "3.8.10"
  }
 },
 "nbformat": 4,
 "nbformat_minor": 5
}
