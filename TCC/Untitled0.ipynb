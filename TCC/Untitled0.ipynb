{
  "nbformat": 4,
  "nbformat_minor": 0,
  "metadata": {
    "colab": {
      "name": "Untitled0.ipynb",
      "provenance": []
    },
    "kernelspec": {
      "name": "python3",
      "display_name": "Python 3"
    },
    "language_info": {
      "name": "python"
    }
  },
  "cells": [
    {
      "cell_type": "code",
      "execution_count": 10,
      "metadata": {
        "colab": {
          "base_uri": "https://localhost:8080/"
        },
        "id": "D6z6WBHE897B",
        "outputId": "efb144fc-362c-4411-cc96-ea539a5cd39f"
      },
      "outputs": [
        {
          "output_type": "stream",
          "name": "stdout",
          "text": [
            "0       91.000000\n",
            "1       87.000000\n",
            "2       84.000000\n",
            "3       86.000000\n",
            "4       92.000000\n",
            "          ...    \n",
            "1515    80.851079\n",
            "1516    77.001028\n",
            "1517    91.438721\n",
            "1518    89.513695\n",
            "1519    86.626157\n",
            "Name: googLVL, Length: 1520, dtype: float64\n"
          ]
        }
      ],
      "source": [
        "import pandas as pd\n",
        "import tensorflow as tf\n",
        "\n",
        "data = pd.read_csv(\"/content/final_df_VW.csv\")\n",
        "data = data.iloc[:,1]\n",
        "print(data)"
      ]
    },
    {
      "cell_type": "code",
      "source": [
        "from sklearn.preprocessing import MinMaxScaler\n",
        "\"\"\"\n",
        "    Uses minMax scaler on data to normalize. Important especially for Volume and google_lvl\n",
        "    @param df: data frame with all features\n",
        "\"\"\"\n",
        "df = pd.DataFrame(data)\n",
        "df.dropna(inplace = True)\n",
        "df = df.values\n",
        "df = df.astype('float32')\n",
        "scaler = MinMaxScaler(feature_range=(-1, 1))\n",
        "norm = scaler.fit_transform(df)\n",
        "\n",
        "print(norm)\n"
      ],
      "metadata": {
        "colab": {
          "base_uri": "https://localhost:8080/"
        },
        "id": "2tr_-8-K_ANo",
        "outputId": "8dcf863b-e340-454a-e84f-6fae60854580"
      },
      "execution_count": 21,
      "outputs": [
        {
          "output_type": "stream",
          "name": "stdout",
          "text": [
            "[[-0.7381654 ]\n",
            " [-0.7846334 ]\n",
            " [-0.81948435]\n",
            " ...\n",
            " [-0.7330688 ]\n",
            " [-0.7554318 ]\n",
            " [-0.7889763 ]]\n"
          ]
        }
      ]
    }
  ]
}